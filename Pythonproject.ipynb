{
  "nbformat": 4,
  "nbformat_minor": 0,
  "metadata": {
    "colab": {
      "provenance": [],
      "authorship_tag": "ABX9TyOjAO59F5JKtoKFn+6Q+cur",
      "include_colab_link": true
    },
    "kernelspec": {
      "name": "python3",
      "display_name": "Python 3"
    },
    "language_info": {
      "name": "python"
    }
  },
  "cells": [
    {
      "cell_type": "markdown",
      "metadata": {
        "id": "view-in-github",
        "colab_type": "text"
      },
      "source": [
        "<a href=\"https://colab.research.google.com/github/armaan111/Python/blob/master/Pythonproject.ipynb\" target=\"_parent\"><img src=\"https://colab.research.google.com/assets/colab-badge.svg\" alt=\"Open In Colab\"/></a>"
      ]
    },
    {
      "cell_type": "code",
      "execution_count": 1,
      "metadata": {
        "colab": {
          "base_uri": "https://localhost:8080/"
        },
        "id": "EWQbY7hUVm60",
        "outputId": "a4bc4508-ddab-4a0a-97c1-4a7f4239bfad"
      },
      "outputs": [
        {
          "output_type": "stream",
          "name": "stdout",
          "text": [
            "helloworld\n"
          ]
        }
      ],
      "source": [
        "#Print function\n",
        "print(\"helloworld\")"
      ]
    },
    {
      "cell_type": "code",
      "source": [
        "#Concatenation function in python\n",
        "str1=\"apna\"\n",
        "str2=\"collage\"\n",
        "str3=str1+ \" \" +str2\n",
        "print(str3)\n",
        "len(str3)"
      ],
      "metadata": {
        "colab": {
          "base_uri": "https://localhost:8080/"
        },
        "id": "JNQXvGR1Vxmi",
        "outputId": "7e508824-5820-4b74-b7e0-4b021d8c0094"
      },
      "execution_count": 4,
      "outputs": [
        {
          "output_type": "stream",
          "name": "stdout",
          "text": [
            "apna collage\n"
          ]
        },
        {
          "output_type": "execute_result",
          "data": {
            "text/plain": [
              "12"
            ]
          },
          "metadata": {},
          "execution_count": 4
        }
      ]
    },
    {
      "cell_type": "code",
      "source": [
        "#Indexing and slicing.\n",
        "str=\"Apna collage\"\n",
        "str[0]\n",
        "str[-1]"
      ],
      "metadata": {
        "colab": {
          "base_uri": "https://localhost:8080/",
          "height": 35
        },
        "id": "O_DQCl26WnlE",
        "outputId": "240c28ae-a1d4-4279-af3c-44ed7ef8004b"
      },
      "execution_count": 6,
      "outputs": [
        {
          "output_type": "execute_result",
          "data": {
            "text/plain": [
              "'e'"
            ],
            "application/vnd.google.colaboratory.intrinsic+json": {
              "type": "string"
            }
          },
          "metadata": {},
          "execution_count": 6
        }
      ]
    },
    {
      "cell_type": "code",
      "source": [
        "str=\"apna collage\"\n",
        "print(str[1:4])\n",
        "print(str[0:4])\n",
        "print(str[5:len(str)])\n",
        "print(str[5:])"
      ],
      "metadata": {
        "colab": {
          "base_uri": "https://localhost:8080/"
        },
        "id": "NAT9nZ56X57R",
        "outputId": "6d37c043-83d6-4019-f221-42dde5951289"
      },
      "execution_count": 11,
      "outputs": [
        {
          "output_type": "stream",
          "name": "stdout",
          "text": [
            "pna\n",
            "apna\n",
            "collage\n",
            "collage\n"
          ]
        }
      ]
    },
    {
      "cell_type": "code",
      "source": [
        "str=\"apple\"\n",
        "print(str[-3:-1])"
      ],
      "metadata": {
        "colab": {
          "base_uri": "https://localhost:8080/"
        },
        "id": "FQFiB_xLd5xd",
        "outputId": "bbd749ff-cb5a-41c0-df45-3b53237a4da6"
      },
      "execution_count": 12,
      "outputs": [
        {
          "output_type": "stream",
          "name": "stdout",
          "text": [
            "pl\n"
          ]
        }
      ]
    },
    {
      "cell_type": "code",
      "source": [
        "str=\"I am coder.\"\n",
        "str.endswith(\"er.\")\n",
        "str.capitalize()\n",
        "str.replace(\"am\",\"ma\")\n",
        "str.find(\"I\")\n",
        "str.count(\"am\")"
      ],
      "metadata": {
        "colab": {
          "base_uri": "https://localhost:8080/"
        },
        "id": "I6IPcZUGePiW",
        "outputId": "7ba7f70c-cb86-47c5-a0fe-49d24e7866aa"
      },
      "execution_count": 16,
      "outputs": [
        {
          "output_type": "execute_result",
          "data": {
            "text/plain": [
              "1"
            ]
          },
          "metadata": {},
          "execution_count": 16
        }
      ]
    }
  ]
}